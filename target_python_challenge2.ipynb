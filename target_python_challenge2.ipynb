{
 "cells": [
  {
   "metadata": {},
   "cell_type": "markdown",
   "source": "# Part 2 Challenges\n\n# Challenge 2.1\n\n## Objective\n\nCreate a script that will take a user input, find the factors of that number, and print those factors.\n\n## Hints\n\n- It would be sad if you don't know what factors are, but [here you go](https://www.mathsisfun.com/numbers/factors-all-tool.html)\n- Use a list to store the factors you have found\n- Use a loop to check each possible factor\n- Use the function `input()` to collect a user's input\n- That input is going to be a string, turn it into an integer\n\n## Solution\n\nWrite below your solution.\nHere is the possible output of a script solving this challenge:"
  },
  {
   "metadata": {},
   "cell_type": "markdown",
   "source": "What number would you like to find the factors of?\n`12`<br>\nThe factors of 12 are: [1, 2, 3, 4, 6, 12]"
  },
  {
   "metadata": {},
   "cell_type": "code",
   "source": "print('Solution to Challenge 1 goes here')",
   "execution_count": null,
   "outputs": []
  },
  {
   "metadata": {},
   "cell_type": "markdown",
   "source": "# Challenge 2.2\n\n## Objective\n\nCreate a script that can generate a fraction consisting of 10 unique digits on the numerator and 10 unique digits on the denominator that can be a close approximation of PI. So, each number (1,2,3,4,5,6,7,9,0) can only be used once in the numerator and same for the denominator.\n\n## Hints\n\n- You will probably use random numbers (`import random`) for either the denominator or the numerator\n- Use a list for creating the random unique numbers\n- Also, add the math module, it contains PI `math.pi` (`import math`)\n- You will probably use loops\n- This is simpler than you think\n\n## Solution\n\nWrite below your solution.\nThis is one of the many answers that could be generated through a good script:"
  },
  {
   "metadata": {},
   "cell_type": "markdown",
   "source": "The numerator is: 2385140697<br>\nThe denominator is: 759213864<br>\nThe approximation of PI is: 3.141592652739018"
  },
  {
   "metadata": {},
   "cell_type": "code",
   "source": "print('Solution to Challenge 2 goes here')",
   "execution_count": null,
   "outputs": []
  },
  {
   "metadata": {},
   "cell_type": "markdown",
   "source": "# Challenge 2.3\n\n## Objective\n\nWe have been given some file transfer data from the NOvA experiment. These data files contain a lot of information about file transfers for this experiment. We are going to take how many jobs started in one day. We will then plot this data in a histogram with the bin size being 1 hour.\n\n[Link to the data](https://target2018.onlineth.com/wp-content/uploads/nova_fullday_2016-04-05.nodetype.csv)\n\nHere is the header which has been removed from the csv file,\n\n```csv\nJobID,JobStartTime(unix timestamp),FileID,FileSize(byte),NodeName,FileProcessingTime(second),FileTransferTime(second),NodeType,FileTransferRate(byte/s)\n```\n\n## Hints\n\n- Take a look at the matplotlib histogram script you did in the lesson\n- Most of the data in the data file for what we are trying to do is irrelevant, pay attention just to how many jobs were in a particular hour\n- To find this, you are given a jobStartTime which is a unix timestamp, lookup how to get an hour of the day from this timestamp, then count how many are in each hour\n\n## Solution\n\nWrite below your solution."
  },
  {
   "metadata": {},
   "cell_type": "code",
   "source": "print('Solution to Challenge 3 goes here')",
   "execution_count": null,
   "outputs": []
  }
 ],
 "metadata": {
  "language_info": {
   "name": "python",
   "pygments_lexer": "ipython3"
  }
 },
 "nbformat": 4,
 "nbformat_minor": 2
}
