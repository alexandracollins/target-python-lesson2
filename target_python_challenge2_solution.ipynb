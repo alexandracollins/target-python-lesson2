{
 "cells": [
  {
   "metadata": {},
   "cell_type": "markdown",
   "source": "# Part 2 Challenges with Solutions\n\n# Challenge 2.1\n\n## Objective\n\nCreate a script that will take a user input, find the factors of that number, and print those factors.\n\n## Hints\n\n- It would be sad if you don't know what factors are, but [here you go](https://www.mathsisfun.com/numbers/factors-all-tool.html)\n- Use a list to store the factors you have found\n- Use a loop to check each possible factor\n- Use the function `input()` to collect a user's input\n- That input is going to be a string, turn it into an integer\n\n## Solution\n\nWrite below your solution.\nHere is the possible output of a script solving this challenge:"
  },
  {
   "metadata": {},
   "cell_type": "markdown",
   "source": "What number would you like to find the factors of?\n`12`<br>\nThe factors of 12 are: [1, 2, 3, 4, 6, 12]"
  },
  {
   "metadata": {},
   "cell_type": "code",
   "source": "def find_factors(number):\n    # Functions because why not?\n\n    # Initialize out list\n    factors = []\n\n    # Starting from 1, let's test each number\n    for curr in range(1, number + 1):\n        # Taking the modulas, if there is a reminder,\n        #  It's not a factor\n        if (number % curr == 0):\n            # We found a factor, add it to our list\n            factors.append(curr)\n\n    # We went through every number from 1 to the user's number\n    # Return what we have\n    return factors\n\n# Ask the user for an input (and take the integer of the string that comes in)\nusr_inp = int(input(\"What number would you like to find the factors of? \"))\n# Print out the factors\nprint(\"The factors of\", usr_inp, \"are:\", find_factors(usr_inp))\n",
   "execution_count": null,
   "outputs": []
  },
  {
   "metadata": {},
   "cell_type": "markdown",
   "source": "# Challenge 2.2\n\n## Objective\n\nCreate a script that can generate a fraction consisting of 10 unique digits on the numerator and 10 unique digits on the denominator that can be a close approximation of PI. So, each number (1,2,3,4,5,6,7,9,0) can only be used once in the numerator and same for the denominator.\n\n## Hints\n\n- You will probably use random numbers (`import random`) for either the denominator or the numerator\n- Use a list for creating the random unique numbers\n- Also, add the math module, it contains PI `math.pi` (`import math`)\n- You will probably use loops\n- This is simpler than you think\n\n## Solution\n\nWrite below your solution.\nThis is one of the many answers that could be generated through a good script:"
  },
  {
   "metadata": {},
   "cell_type": "markdown",
   "source": "The numerator is: 2385140697<br>\nThe denominator is: 759213864<br>\nThe approximation of PI is: 3.141592652739018"
  },
  {
   "metadata": {},
   "cell_type": "code",
   "source": "from random import shuffle\nfrom math import pi\n\n\ndef pi_finder():\n    # Keeping trying until we find a suitable denominator and numerator\n    while(1):\n        # First: Take 9 digits, randomize the order, & create a number from it\n        denominator_list = [\"1\",\"2\",\"3\",\"4\",\"5\",\"6\",\"7\",\"8\",\"9\"]\n        shuffle(denominator_list)\n\n        # Multiple ways to do this, this take a list of numbers, and takes an\n        #  empty string and adds each element from the list - finally taking the\n        #  numeric value of the string using int()\n        denominator = int(''.join(denominator_list))\n\n\n        # Second: Take that number times PI (denominator times pi equal numerator)\n        #         and then take the integer of the value\n        numerator = denominator * pi\n        numerator = int(numerator)\n\n        # Third: Check if it's 9 digits, and check if those digits are unique\n        #        from each other\n        # Much easier to deal with strings at this point\n        str_numerator = str(numerator)\n\n        if (len(str_numerator) != 9):\n            # Continue means reset from the top of the loop\n            continue\n\n        # Create a pool and remove each number as it is found\n        pool = [\"1\",\"2\",\"3\",\"4\",\"5\",\"6\",\"7\",\"8\",\"9\"]\n\n        for curr in list(str_numerator):\n            # Take each number out as it is found\n            if (curr in pool):\n                pool.remove(curr)\n\n        if (pool != []):\n            # If it is not empty, there are dups in the numerator\n            continue\n\n        # At this point all checks have passed, return the number\n        return [numerator, denominator]\n\n\n# Run the function\nresult = pi_finder()\n\n# Print out the results\nprint(\"The numerator is:\", result[0])\nprint(\"The denominator is:\", result[1])\nprint(\"The approximation of PI is:\", result[0]/result[1])",
   "execution_count": null,
   "outputs": []
  },
  {
   "metadata": {},
   "cell_type": "markdown",
   "source": "# Challenge 2.3\n\n## Objective\n\nWe have been given some file transfer data from the NOvA experiment. These data files contain a lot of information about file transfers for this experiment. We are going to take how many jobs started in one day. We will then plot this data in a histogram with the bin size being 1 hour.\n\n[Link to the data](https://target2018.onlineth.com/wp-content/uploads/nova_fullday_2016-04-05.nodetype.csv)\n\nHere is the header which has been removed from the csv file,\n\n```csv\nJobID,JobStartTime(unix timestamp),FileID,FileSize(byte),NodeName,FileProcessingTime(second),FileTransferTime(second),NodeType,FileTransferRate(byte/s)\n```\n\n## Hints\n\n- Take a look at the matplotlib histogram script you did in the lesson\n- Most of the data in the data file for what we are trying to do is irrelevant, pay attention just to how many jobs were in a particular hour\n- To find this, you are given a jobStartTime which is a unix timestamp, lookup how to get an hour of the day from this timestamp, then count how many are in each hour\n\n## Solution\n\nWrite below your solution."
  },
  {
   "metadata": {},
   "cell_type": "code",
   "source": "print('Solution to Challenge 3 goes here')",
   "execution_count": null,
   "outputs": []
  }
 ],
 "metadata": {
  "language_info": {
   "name": "python",
   "pygments_lexer": "ipython3"
  }
 },
 "nbformat": 4,
 "nbformat_minor": 2
}
